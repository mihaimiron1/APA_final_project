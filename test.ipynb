{
 "cells": [
  {
   "cell_type": "code",
   "execution_count": 49,
   "metadata": {},
   "outputs": [],
   "source": [
    "import pandas as pd\n",
    "\n",
    "# Încarcă fișierul JSON\n",
    "data = pd.read_json('login_users.json')\n",
    "\n",
    "# Accesează lista de utilizatori\n",
    "users = data['users']\n"
   ]
  },
  {
   "cell_type": "code",
   "execution_count": 124,
   "metadata": {},
   "outputs": [],
   "source": [
    "data = pd.read_csv('APA_PR\\procesed_data.csv')"
   ]
  },
  {
   "cell_type": "code",
   "execution_count": 117,
   "metadata": {},
   "outputs": [
    {
     "name": "stdout",
     "output_type": "stream",
     "text": [
      "<class 'pandas.core.frame.DataFrame'>\n",
      "RangeIndex: 70 entries, 0 to 69\n",
      "Data columns (total 28 columns):\n",
      " #   Column            Non-Null Count  Dtype  \n",
      "---  ------            --------------  -----  \n",
      " 0   ID                70 non-null     int64  \n",
      " 1   Gender            70 non-null     int64  \n",
      " 2   Age               70 non-null     int64  \n",
      " 3   Height            70 non-null     int64  \n",
      " 4   Hair_Color        70 non-null     object \n",
      " 5   Preferred_Gender  70 non-null     int64  \n",
      " 6   Location          70 non-null     object \n",
      " 7   Photo_Path        70 non-null     object \n",
      " 8   Age_Min           70 non-null     int64  \n",
      " 9   Age_Max           70 non-null     int64  \n",
      " 10  cooking           70 non-null     int64  \n",
      " 11  dancing           70 non-null     int64  \n",
      " 12  drawing           70 non-null     int64  \n",
      " 13  games             70 non-null     int64  \n",
      " 14  gardening         70 non-null     int64  \n",
      " 15  hiking            70 non-null     int64  \n",
      " 16  movies            70 non-null     int64  \n",
      " 17  music             70 non-null     int64  \n",
      " 18  photography       70 non-null     int64  \n",
      " 19  reading           70 non-null     int64  \n",
      " 20  sports            70 non-null     int64  \n",
      " 21  swimming          70 non-null     int64  \n",
      " 22  travel            70 non-null     int64  \n",
      " 23  video             70 non-null     int64  \n",
      " 24  yoga              70 non-null     int64  \n",
      " 25  Vector_X          70 non-null     float64\n",
      " 26  Vector_Y          70 non-null     float64\n",
      " 27  Vector_Z          70 non-null     float64\n",
      "dtypes: float64(3), int64(22), object(3)\n",
      "memory usage: 15.4+ KB\n"
     ]
    }
   ],
   "source": [
    "data.info()"
   ]
  },
  {
   "cell_type": "code",
   "execution_count": 118,
   "metadata": {},
   "outputs": [
    {
     "name": "stdout",
     "output_type": "stream",
     "text": [
      "28\n"
     ]
    }
   ],
   "source": [
    "columns = data.columns.tolist()\n",
    "print(len(columns))"
   ]
  },
  {
   "cell_type": "code",
   "execution_count": 105,
   "metadata": {},
   "outputs": [
    {
     "name": "stdout",
     "output_type": "stream",
     "text": [
      "<class 'pandas.core.frame.DataFrame'>\n",
      "RangeIndex: 70 entries, 0 to 69\n",
      "Data columns (total 28 columns):\n",
      " #   Column            Non-Null Count  Dtype  \n",
      "---  ------            --------------  -----  \n",
      " 0   ID                70 non-null     int64  \n",
      " 1   Gender            70 non-null     int64  \n",
      " 2   Age               70 non-null     int64  \n",
      " 3   Height            70 non-null     int64  \n",
      " 4   Hair_Color        70 non-null     object \n",
      " 5   Preferred_Gender  70 non-null     int64  \n",
      " 6   Location          70 non-null     object \n",
      " 7   Photo_Path        70 non-null     object \n",
      " 8   Age_Min           70 non-null     int64  \n",
      " 9   Age_Max           70 non-null     int64  \n",
      " 10  cooking           70 non-null     int64  \n",
      " 11  dancing           70 non-null     int64  \n",
      " 12  drawing           70 non-null     int64  \n",
      " 13  games             70 non-null     int64  \n",
      " 14  gardening         70 non-null     int64  \n",
      " 15  hiking            70 non-null     int64  \n",
      " 16  movies            70 non-null     int64  \n",
      " 17  music             70 non-null     int64  \n",
      " 18  photography       70 non-null     int64  \n",
      " 19  reading           70 non-null     int64  \n",
      " 20  sports            70 non-null     int64  \n",
      " 21  swimming          70 non-null     int64  \n",
      " 22  travel            70 non-null     int64  \n",
      " 23  video             70 non-null     int64  \n",
      " 24  yoga              70 non-null     int64  \n",
      " 25  Vector_X          70 non-null     float64\n",
      " 26  Vector_Y          70 non-null     float64\n",
      " 27  Vector_Z          70 non-null     float64\n",
      "dtypes: float64(3), int64(22), object(3)\n",
      "memory usage: 15.4+ KB\n"
     ]
    }
   ],
   "source": [
    "data.info()"
   ]
  },
  {
   "cell_type": "code",
   "execution_count": 127,
   "metadata": {},
   "outputs": [
    {
     "name": "stdout",
     "output_type": "stream",
     "text": [
      "29\n"
     ]
    }
   ],
   "source": [
    "columns = data.columns.tolist()\n",
    "print(len(columns))"
   ]
  },
  {
   "cell_type": "code",
   "execution_count": 82,
   "metadata": {},
   "outputs": [],
   "source": [
    "all_interests = list(data.columns[10:-3])"
   ]
  },
  {
   "cell_type": "code",
   "execution_count": 106,
   "metadata": {},
   "outputs": [
    {
     "data": {
      "text/plain": [
       "['cooking',\n",
       " 'dancing',\n",
       " 'drawing',\n",
       " 'games',\n",
       " 'gardening',\n",
       " 'hiking',\n",
       " 'movies',\n",
       " 'music',\n",
       " 'photography',\n",
       " 'reading',\n",
       " 'sports',\n",
       " 'swimming',\n",
       " 'travel',\n",
       " 'video',\n",
       " 'yoga',\n",
       " 'painting']"
      ]
     },
     "execution_count": 106,
     "metadata": {},
     "output_type": "execute_result"
    }
   ],
   "source": [
    "all_interests"
   ]
  },
  {
   "cell_type": "code",
   "execution_count": 155,
   "metadata": {},
   "outputs": [],
   "source": [
    "data = pd.read_csv('APA_PR\\procesed_data.csv')"
   ]
  },
  {
   "cell_type": "code",
   "execution_count": 159,
   "metadata": {},
   "outputs": [
    {
     "name": "stdout",
     "output_type": "stream",
     "text": [
      "Interese noi: {'wafsdfsdf'}\n",
      "Număr coloane: 30\n",
      "Număr valori: 30\n",
      "    ID  Gender  Age  Height Hair_Color  Preferred_Gender   Location  \\\n",
      "0    1       1   25     180      Brown                 0  Bucharest   \n",
      "1    2       0   22     165     Blonde                 1       Cluj   \n",
      "2    3       0   30     170      Black                 1  Timisoara   \n",
      "3    4       1   28     175        Red                 0     Brasov   \n",
      "4    5       0   24     160      Brown                 1  Constanta   \n",
      "..  ..     ...  ...     ...        ...               ...        ...   \n",
      "67  68       1   29     170      Brown                 0  Timisoara   \n",
      "68  69       0   24     163        Red                 1       Cluj   \n",
      "69  70       1   30     180      Black                 0  Bucharest   \n",
      "70   5       1   29     185      Brown                 0       Iasi   \n",
      "71   5       1   29     185      Brown                 0       Iasi   \n",
      "\n",
      "                                           Photo_Path  Age_Min  Age_Max  ...  \\\n",
      "0                                                ....       20       30  ...   \n",
      "1             https://i.postimg.cc/tgYMHvM9/img2.webp       20       35  ...   \n",
      "2   https://i.postimg.cc/0yrCwhgX/DALL-E-2025-01-1...       25       40  ...   \n",
      "3             https://i.postimg.cc/qB5q7FLv/img4.webp       22       32  ...   \n",
      "4             https://i.postimg.cc/g0gdTwt2/img5.webp       20       30  ...   \n",
      "..                                                ...      ...      ...  ...   \n",
      "67                                  photos/user68.jpg       25       34  ...   \n",
      "68                                  photos/user69.jpg       21       30  ...   \n",
      "69                                  photos/user70.jpg       26       38  ...   \n",
      "70                                                ...       25       35  ...   \n",
      "71                                                ...       25       35  ...   \n",
      "\n",
      "    sports  swimming  travel  video  painting  wafsdfsdf  yoga  Vector_X  \\\n",
      "0        1         0       0      0         0          0     0  0.641205   \n",
      "1        0         0       1      0         0          0     0  0.627698   \n",
      "2        0         0       0      0         0          0     0  0.650408   \n",
      "3        0         0       0      0         0          0     0  0.630333   \n",
      "4        0         0       0      0         0          0     1  0.629380   \n",
      "..     ...       ...     ...    ...       ...        ...   ...       ...   \n",
      "67       0         0       0      0         0          0     0  0.650408   \n",
      "68       0         0       0      0         0          0     0  0.627698   \n",
      "69       0         0       1      0         0          0     0  0.641205   \n",
      "70       1         0       0      0         1          0     0  0.654321   \n",
      "71       1         0       0      0         1          1     0  0.654321   \n",
      "\n",
      "    Vector_Y  Vector_Z  \n",
      "0   0.314161  0.700114  \n",
      "1   0.274104  0.728603  \n",
      "2   0.252613  0.716349  \n",
      "3   0.302148  0.715114  \n",
      "4   0.343873  0.696874  \n",
      "..       ...       ...  \n",
      "67  0.252613  0.716349  \n",
      "68  0.274104  0.728603  \n",
      "69  0.314161  0.700114  \n",
      "70  0.234567  0.789012  \n",
      "71  0.234567  0.789012  \n",
      "\n",
      "[72 rows x 30 columns]\n"
     ]
    }
   ],
   "source": [
    "import pandas as pd\n",
    "\n",
    "# Creăm un DataFrame inițial cu datele utilizatorilor existenți (pentru demonstrație)\n",
    "\n",
    "# Lista globală a intereselor (luăm coloanele corespunzătoare intereselor)\n",
    "  \n",
    "all_interests = list(data.columns[10:-3])\n",
    "\n",
    "# Datele unui utilizator nou\n",
    "new_user = {\n",
    "    \"ID\": 5,\n",
    "    \"Age\": 29,\n",
    "    \"Height\": 185,\n",
    "    \"Hair_Color\": \"Brown\",\n",
    "    \"interest\": \"sports, music, painting, wafsdfsdf\",  # Interesele ca un singur string\n",
    "    \"Preferred_Gender\": 0,\n",
    "    \"Gender\": 1,\n",
    "    \"Location\": \"Iasi\",\n",
    "    \"Photo_Path\": \"...\",\n",
    "    \"Age_Min\": 25,\n",
    "    \"Age_Max\": 35,\n",
    "    \"Vector_X\": 0.654321,\n",
    "    \"Vector_Y\": 0.234567,\n",
    "    \"Vector_Z\": 0.789012\n",
    "}\n",
    "\n",
    "# Separăm interesele într-o listă\n",
    "user_interest_list = [interest.strip() for interest in new_user[\"interest\"].split(\",\")]\n",
    "\n",
    "# Verificăm și actualizăm lista globală a intereselor\n",
    "new_interests = set(user_interest_list) - set(all_interests)\n",
    "print(f\"Interese noi: {new_interests}\")\n",
    "for interest in new_interests:\n",
    "    data.insert(len(data.columns) - 4, interest, 0)\n",
    "\n",
    "all_interests = list(data.columns[10:-3])\n",
    "# Funcția care transformă interesele în format binar\n",
    "def binarize_interests(user_interest, all_interests):\n",
    "    return [1 if interest in user_interest else 0 for interest in all_interests]\n",
    "\n",
    "# Construim un rând pentru noul utilizator\n",
    "new_user_row = [\n",
    "    new_user[\"ID\"],\n",
    "    new_user[\"Gender\"],\n",
    "    new_user[\"Age\"],\n",
    "    new_user[\"Height\"],\n",
    "    new_user[\"Hair_Color\"],\n",
    "    new_user[\"Preferred_Gender\"],\n",
    "    new_user[\"Location\"],\n",
    "    new_user[\"Photo_Path\"],\n",
    "    new_user[\"Age_Min\"],\n",
    "    new_user[\"Age_Max\"]\n",
    "] + binarize_interests(user_interest_list, all_interests) + [\n",
    "    new_user[\"Vector_X\"],\n",
    "    new_user[\"Vector_Y\"],\n",
    "    new_user[\"Vector_Z\"]\n",
    "    \n",
    "]\n",
    "\n",
    "# Actualizăm lista de coloane pentru a include noile coloane de interese\n",
    "columns = [col for col in data.columns.tolist() if col not in [\"Vector_X\", \"Vector_Y\", \"Vector_Z\"]]\n",
    "columns = columns + [\"Vector_X\", \"Vector_Y\", \"Vector_Z\"]\n",
    "\n",
    "# Verificăm că numărul de coloane corespunde numărului de valori\n",
    "print(f\"Număr coloane: {len(columns)}\")\n",
    "print(f\"Număr valori: {len(new_user_row)}\")\n",
    "\n",
    "# Adăugăm noul utilizator în DataFrame\n",
    "new_user_df = pd.DataFrame([new_user_row], columns=columns)\n",
    "data = pd.concat([data, new_user_df], ignore_index=True)\n",
    "\n",
    "# Afișăm noul DataFrame\n",
    "print(data)\n",
    "\n"
   ]
  },
  {
   "cell_type": "code",
   "execution_count": 160,
   "metadata": {},
   "outputs": [
    {
     "name": "stdout",
     "output_type": "stream",
     "text": [
      "<class 'pandas.core.frame.DataFrame'>\n",
      "RangeIndex: 72 entries, 0 to 71\n",
      "Data columns (total 30 columns):\n",
      " #   Column            Non-Null Count  Dtype  \n",
      "---  ------            --------------  -----  \n",
      " 0   ID                72 non-null     int64  \n",
      " 1   Gender            72 non-null     int64  \n",
      " 2   Age               72 non-null     int64  \n",
      " 3   Height            72 non-null     int64  \n",
      " 4   Hair_Color        72 non-null     object \n",
      " 5   Preferred_Gender  72 non-null     int64  \n",
      " 6   Location          72 non-null     object \n",
      " 7   Photo_Path        72 non-null     object \n",
      " 8   Age_Min           72 non-null     int64  \n",
      " 9   Age_Max           72 non-null     int64  \n",
      " 10  cooking           72 non-null     int64  \n",
      " 11  dancing           72 non-null     int64  \n",
      " 12  drawing           72 non-null     int64  \n",
      " 13  games             72 non-null     int64  \n",
      " 14  gardening         72 non-null     int64  \n",
      " 15  hiking            72 non-null     int64  \n",
      " 16  movies            72 non-null     int64  \n",
      " 17  music             72 non-null     int64  \n",
      " 18  photography       72 non-null     int64  \n",
      " 19  reading           72 non-null     int64  \n",
      " 20  sports            72 non-null     int64  \n",
      " 21  swimming          72 non-null     int64  \n",
      " 22  travel            72 non-null     int64  \n",
      " 23  video             72 non-null     int64  \n",
      " 24  painting          72 non-null     int64  \n",
      " 25  wafsdfsdf         72 non-null     int64  \n",
      " 26  yoga              72 non-null     int64  \n",
      " 27  Vector_X          72 non-null     float64\n",
      " 28  Vector_Y          72 non-null     float64\n",
      " 29  Vector_Z          72 non-null     float64\n",
      "dtypes: float64(3), int64(24), object(3)\n",
      "memory usage: 17.0+ KB\n"
     ]
    }
   ],
   "source": [
    "data.info()"
   ]
  },
  {
   "cell_type": "code",
   "execution_count": 161,
   "metadata": {},
   "outputs": [
    {
     "name": "stdout",
     "output_type": "stream",
     "text": [
      "set()\n"
     ]
    }
   ],
   "source": [
    "print(set(user_interest_list) - set(all_interests))"
   ]
  },
  {
   "cell_type": "code",
   "execution_count": 162,
   "metadata": {},
   "outputs": [
    {
     "data": {
      "text/plain": [
       "['cooking',\n",
       " 'dancing',\n",
       " 'drawing',\n",
       " 'games',\n",
       " 'gardening',\n",
       " 'hiking',\n",
       " 'movies',\n",
       " 'music',\n",
       " 'photography',\n",
       " 'reading',\n",
       " 'sports',\n",
       " 'swimming',\n",
       " 'travel',\n",
       " 'video',\n",
       " 'painting',\n",
       " 'wafsdfsdf',\n",
       " 'yoga']"
      ]
     },
     "execution_count": 162,
     "metadata": {},
     "output_type": "execute_result"
    }
   ],
   "source": [
    "all_interests"
   ]
  },
  {
   "cell_type": "code",
   "execution_count": 126,
   "metadata": {},
   "outputs": [
    {
     "data": {
      "text/plain": [
       "['ID',\n",
       " 'Gender',\n",
       " 'Age',\n",
       " 'Height',\n",
       " 'Hair_Color',\n",
       " 'Preferred_Gender',\n",
       " 'Location',\n",
       " 'Photo_Path',\n",
       " 'Age_Min',\n",
       " 'Age_Max',\n",
       " 'cooking',\n",
       " 'dancing',\n",
       " 'drawing',\n",
       " 'games',\n",
       " 'gardening',\n",
       " 'hiking',\n",
       " 'movies',\n",
       " 'music',\n",
       " 'photography',\n",
       " 'reading',\n",
       " 'sports',\n",
       " 'swimming',\n",
       " 'travel',\n",
       " 'video',\n",
       " 'yoga',\n",
       " 'painting',\n",
       " 'Vector_X',\n",
       " 'Vector_Y',\n",
       " 'Vector_Z']"
      ]
     },
     "execution_count": 126,
     "metadata": {},
     "output_type": "execute_result"
    }
   ],
   "source": [
    "columns # lipsete cooking,dancing,drawing,games,gardening,"
   ]
  },
  {
   "cell_type": "code",
   "execution_count": 96,
   "metadata": {},
   "outputs": [
    {
     "name": "stdout",
     "output_type": "stream",
     "text": [
      "<class 'pandas.core.frame.DataFrame'>\n",
      "RangeIndex: 71 entries, 0 to 70\n",
      "Data columns (total 29 columns):\n",
      " #   Column            Non-Null Count  Dtype  \n",
      "---  ------            --------------  -----  \n",
      " 0   ID                71 non-null     int64  \n",
      " 1   Gender            71 non-null     int64  \n",
      " 2   Age               71 non-null     int64  \n",
      " 3   Height            71 non-null     int64  \n",
      " 4   Hair_Color        71 non-null     object \n",
      " 5   Preferred_Gender  71 non-null     int64  \n",
      " 6   Location          71 non-null     object \n",
      " 7   Photo_Path        71 non-null     object \n",
      " 8   Age_Min           71 non-null     int64  \n",
      " 9   Age_Max           71 non-null     int64  \n",
      " 10  cooking           71 non-null     int64  \n",
      " 11  dancing           71 non-null     int64  \n",
      " 12  drawing           71 non-null     int64  \n",
      " 13  games             71 non-null     int64  \n",
      " 14  gardening         71 non-null     int64  \n",
      " 15  hiking            71 non-null     int64  \n",
      " 16  movies            71 non-null     int64  \n",
      " 17  music             71 non-null     int64  \n",
      " 18  photography       71 non-null     int64  \n",
      " 19  reading           71 non-null     int64  \n",
      " 20  sports            71 non-null     int64  \n",
      " 21  swimming          71 non-null     int64  \n",
      " 22  travel            71 non-null     int64  \n",
      " 23  video             71 non-null     int64  \n",
      " 24  yoga              71 non-null     int64  \n",
      " 25  Vector_X          71 non-null     float64\n",
      " 26  Vector_Y          71 non-null     float64\n",
      " 27  Vector_Z          71 non-null     float64\n",
      " 28  painting          71 non-null     int64  \n",
      "dtypes: float64(3), int64(23), object(3)\n",
      "memory usage: 16.2+ KB\n"
     ]
    }
   ],
   "source": [
    "data.info()"
   ]
  },
  {
   "cell_type": "code",
   "execution_count": 81,
   "metadata": {},
   "outputs": [
    {
     "data": {
      "text/plain": [
       "['hiking',\n",
       " 'movies',\n",
       " 'music',\n",
       " 'photography',\n",
       " 'reading',\n",
       " 'sports',\n",
       " 'travel',\n",
       " 'painting']"
      ]
     },
     "execution_count": 81,
     "metadata": {},
     "output_type": "execute_result"
    }
   ],
   "source": [
    "all_interests"
   ]
  },
  {
   "cell_type": "code",
   "execution_count": 44,
   "metadata": {},
   "outputs": [
    {
     "data": {
      "text/plain": [
       "['sports', 'music', 'painting']"
      ]
     },
     "execution_count": 44,
     "metadata": {},
     "output_type": "execute_result"
    }
   ],
   "source": [
    "user_interest_list"
   ]
  },
  {
   "cell_type": "code",
   "execution_count": 40,
   "metadata": {},
   "outputs": [],
   "source": [
    "columns = [col for col in data.columns.tolist() if col not in [\"Vector_X\", \"Vector_Y\", \"Vector_Z\"]]\n",
    "columns = columns + [\"Vector_X\", \"Vector_Y\", \"Vector_Z\"]"
   ]
  },
  {
   "cell_type": "code",
   "execution_count": 43,
   "metadata": {},
   "outputs": [
    {
     "data": {
      "text/html": [
       "<div>\n",
       "<style scoped>\n",
       "    .dataframe tbody tr th:only-of-type {\n",
       "        vertical-align: middle;\n",
       "    }\n",
       "\n",
       "    .dataframe tbody tr th {\n",
       "        vertical-align: top;\n",
       "    }\n",
       "\n",
       "    .dataframe thead th {\n",
       "        text-align: right;\n",
       "    }\n",
       "</style>\n",
       "<table border=\"1\" class=\"dataframe\">\n",
       "  <thead>\n",
       "    <tr style=\"text-align: right;\">\n",
       "      <th></th>\n",
       "      <th>ID</th>\n",
       "      <th>Gender</th>\n",
       "      <th>Age</th>\n",
       "      <th>Height</th>\n",
       "      <th>Hair_Color</th>\n",
       "      <th>Preferred_Gender</th>\n",
       "      <th>Location</th>\n",
       "      <th>Photo_Path</th>\n",
       "      <th>Age_Min</th>\n",
       "      <th>Age_Max</th>\n",
       "      <th>...</th>\n",
       "      <th>movies</th>\n",
       "      <th>music</th>\n",
       "      <th>photography</th>\n",
       "      <th>reading</th>\n",
       "      <th>sports</th>\n",
       "      <th>travel</th>\n",
       "      <th>painting</th>\n",
       "      <th>Vector_X</th>\n",
       "      <th>Vector_Y</th>\n",
       "      <th>Vector_Z</th>\n",
       "    </tr>\n",
       "  </thead>\n",
       "  <tbody>\n",
       "    <tr>\n",
       "      <th>0</th>\n",
       "      <td>5</td>\n",
       "      <td>1</td>\n",
       "      <td>29</td>\n",
       "      <td>185</td>\n",
       "      <td>Brown</td>\n",
       "      <td>0</td>\n",
       "      <td>Iasi</td>\n",
       "      <td>...</td>\n",
       "      <td>25</td>\n",
       "      <td>35</td>\n",
       "      <td>...</td>\n",
       "      <td>0</td>\n",
       "      <td>1</td>\n",
       "      <td>0</td>\n",
       "      <td>0</td>\n",
       "      <td>1</td>\n",
       "      <td>0</td>\n",
       "      <td>1</td>\n",
       "      <td>0.654321</td>\n",
       "      <td>0.234567</td>\n",
       "      <td>0.789012</td>\n",
       "    </tr>\n",
       "  </tbody>\n",
       "</table>\n",
       "<p>1 rows × 21 columns</p>\n",
       "</div>"
      ],
      "text/plain": [
       "   ID  Gender  Age  Height Hair_Color  Preferred_Gender Location Photo_Path  \\\n",
       "0   5       1   29     185      Brown                 0     Iasi        ...   \n",
       "\n",
       "   Age_Min  Age_Max  ...  movies  music  photography  reading  sports  travel  \\\n",
       "0       25       35  ...       0      1            0        0       1       0   \n",
       "\n",
       "   painting  Vector_X  Vector_Y  Vector_Z  \n",
       "0         1  0.654321  0.234567  0.789012  \n",
       "\n",
       "[1 rows x 21 columns]"
      ]
     },
     "execution_count": 43,
     "metadata": {},
     "output_type": "execute_result"
    }
   ],
   "source": [
    "new_user_df"
   ]
  },
  {
   "cell_type": "code",
   "execution_count": 38,
   "metadata": {},
   "outputs": [
    {
     "data": {
      "text/plain": [
       "['ID',\n",
       " 'Gender',\n",
       " 'Age',\n",
       " 'Height',\n",
       " 'Hair_Color',\n",
       " 'Preferred_Gender',\n",
       " 'Location',\n",
       " 'Photo_Path',\n",
       " 'Age_Min',\n",
       " 'Age_Max',\n",
       " 'hiking',\n",
       " 'movies',\n",
       " 'music',\n",
       " 'photography',\n",
       " 'reading',\n",
       " 'sports',\n",
       " 'travel',\n",
       " 'Vector_X',\n",
       " 'Vector_Y',\n",
       " 'Vector_Z',\n",
       " 'painting']"
      ]
     },
     "execution_count": 38,
     "metadata": {},
     "output_type": "execute_result"
    }
   ],
   "source": [
    "data.columns.tolist()"
   ]
  },
  {
   "cell_type": "code",
   "execution_count": 41,
   "metadata": {},
   "outputs": [
    {
     "data": {
      "text/plain": [
       "['ID',\n",
       " 'Gender',\n",
       " 'Age',\n",
       " 'Height',\n",
       " 'Hair_Color',\n",
       " 'Preferred_Gender',\n",
       " 'Location',\n",
       " 'Photo_Path',\n",
       " 'Age_Min',\n",
       " 'Age_Max',\n",
       " 'hiking',\n",
       " 'movies',\n",
       " 'music',\n",
       " 'photography',\n",
       " 'reading',\n",
       " 'sports',\n",
       " 'travel',\n",
       " 'painting',\n",
       " 'Vector_X',\n",
       " 'Vector_Y',\n",
       " 'Vector_Z']"
      ]
     },
     "execution_count": 41,
     "metadata": {},
     "output_type": "execute_result"
    }
   ],
   "source": [
    "columns"
   ]
  },
  {
   "cell_type": "code",
   "execution_count": 23,
   "metadata": {},
   "outputs": [
    {
     "data": {
      "text/plain": [
       "0    0\n",
       "1    0\n",
       "2    0\n",
       "3    0\n",
       "Name: painting, dtype: int64"
      ]
     },
     "execution_count": 23,
     "metadata": {},
     "output_type": "execute_result"
    }
   ],
   "source": [
    "data.painting"
   ]
  },
  {
   "cell_type": "code",
   "execution_count": null,
   "metadata": {},
   "outputs": [
    {
     "name": "stdout",
     "output_type": "stream",
     "text": [
      "    1  2  3  4  5  6  7  8  9  10  ...  62  63  64  65  66  67  68  69  70  71\n",
      "1   0  0  0  0  1  0  1  0  0   0  ...   0   0   0   1   0   0   0   1   0   0\n",
      "2   0  0  0  0  0  0  0  0  0   0  ...   0   0   0   0   0   0   0   0   0   0\n",
      "3   0  0  0  0  0  0  0  0  0   0  ...   0   0   0   0   0   0   0   0   0   0\n",
      "4   0  0  0  0  0  0  0  0  0   0  ...   0   0   0   0   0   0   0   0   0   0\n",
      "5   1  0  0  0  0  0  0  0  0   0  ...   0   0   0   0   0   0   0   0   0   0\n",
      ".. .. .. .. .. .. .. .. .. ..  ..  ...  ..  ..  ..  ..  ..  ..  ..  ..  ..  ..\n",
      "67  0  0  0  0  0  0  0  0  0   0  ...   0   0   0   0   0   0   0   0   0   0\n",
      "68  0  0  0  0  0  0  0  0  0   0  ...   0   0   0   0   0   0   0   0   0   0\n",
      "69  0  0  0  0  0  0  0  0  0   0  ...   0   0   0   0   0   0   0   0   0   0\n",
      "70  0  0  0  0  0  0  0  0  0   0  ...   0   0   0   0   0   0   0   0   0   0\n",
      "71  0  0  0  0  0  0  0  0  0   0  ...   0   0   0   0   0   0   0   0   0   0\n",
      "\n",
      "[71 rows x 71 columns]\n"
     ]
    }
   ],
   "source": [
    "import pandas as pd\n",
    "\n",
    "\n",
    "\n",
    "# Adaugă un nou rând la final\n",
    "new_row = [0] * len(interactions_matrix.columns)  # Toate valorile sunt 0\n",
    "interactions_matrix.loc[len(interactions_matrix) + 1] = new_row\n",
    "\n",
    "# Adaugă o nouă coloană la final\n",
    "new_column = [0] * len(interactions_matrix)  # Toate valorile sunt 0\n",
    "interactions_matrix[len(interactions_matrix.columns) + 1] = new_column\n",
    "\n",
    "# Salvează rezultatul înapoi într-un fișier CSV (opțional)\n",
    "interactions_matrix.to_csv('APA_PR\\interact.csv')\n",
    "\n",
    "\n"
   ]
  },
  {
   "cell_type": "code",
   "execution_count": null,
   "metadata": {},
   "outputs": [
    {
     "name": "stdout",
     "output_type": "stream",
     "text": [
      "    ID             Interests\n",
      "0    1         music, sports\n",
      "1    2       reading, travel\n",
      "2    3       cooking, movies\n",
      "3    4   hiking, photography\n",
      "4    5           music, yoga\n",
      "..  ..                   ...\n",
      "66  67          travel, yoga\n",
      "67  68        music, reading\n",
      "68  69  cooking, photography\n",
      "69  70       dancing, travel\n",
      "70  71          music, sport\n",
      "\n",
      "[71 rows x 2 columns]\n"
     ]
    }
   ],
   "source": [
    "import pandas as pd\n",
    "\n",
    "# Crearea DataFrame-ului\n",
    "\n",
    "\n",
    "df = pd.read_csv('APA_PR\\procesed_data.csv')\n",
    "\n",
    "# Identificăm automat coloanele care reprezintă interese\n",
    "def identify_interest_columns(dataframe):\n",
    "    # Selectăm coloanele cu valori binare (0 și 1) care nu sunt categorice evidente\n",
    "    interest_columns = [\n",
    "        column for column in dataframe.columns\n",
    "        if dataframe[column].dropna().isin([0, 1]).all()  # Verifică dacă toate valorile sunt 0 sau 1\n",
    "        and column not in [\"ID\", \"Gender\", \"Preferred_Gender\"]\n",
    "    ]\n",
    "    return interest_columns\n",
    "\n",
    "interests_columns = identify_interest_columns(df)\n",
    "\n",
    "# Funcție pentru a extrage interesele unei persoane\n",
    "def extract_interests(row, interests_columns):\n",
    "    interests = [interest for interest in interests_columns if row[interest] == 1]\n",
    "    return \", \".join(interests)  # Interesele vor fi returnate sub formă de string, separate prin virgulă\n",
    "\n",
    "# Aplicăm funcția pe fiecare rând\n",
    "df[\"Interests\"] = df.apply(lambda row: extract_interests(row, interests_columns), axis=1)\n",
    "\n"
   ]
  },
  {
   "cell_type": "code",
   "execution_count": 5,
   "metadata": {},
   "outputs": [
    {
     "name": "stdout",
     "output_type": "stream",
     "text": [
      "music, sports\n"
     ]
    }
   ],
   "source": [
    "print(df[df[\"ID\"] == 1][\"Interests\"].values[0])\n"
   ]
  },
  {
   "cell_type": "code",
   "execution_count": null,
   "metadata": {},
   "outputs": [],
   "source": []
  },
  {
   "cell_type": "code",
   "execution_count": null,
   "metadata": {},
   "outputs": [],
   "source": []
  },
  {
   "cell_type": "code",
   "execution_count": null,
   "metadata": {},
   "outputs": [],
   "source": []
  },
  {
   "cell_type": "code",
   "execution_count": null,
   "metadata": {},
   "outputs": [],
   "source": []
  },
  {
   "cell_type": "code",
   "execution_count": null,
   "metadata": {},
   "outputs": [],
   "source": []
  },
  {
   "cell_type": "code",
   "execution_count": null,
   "metadata": {},
   "outputs": [],
   "source": []
  },
  {
   "cell_type": "code",
   "execution_count": null,
   "metadata": {},
   "outputs": [],
   "source": []
  },
  {
   "cell_type": "code",
   "execution_count": 24,
   "metadata": {},
   "outputs": [
    {
     "name": "stdout",
     "output_type": "stream",
     "text": [
      "Număr coloane: 22\n",
      "Număr valori: 21\n"
     ]
    },
    {
     "ename": "ValueError",
     "evalue": "22 columns passed, passed data had 21 columns",
     "output_type": "error",
     "traceback": [
      "\u001b[1;31m---------------------------------------------------------------------------\u001b[0m",
      "\u001b[1;31mAssertionError\u001b[0m                            Traceback (most recent call last)",
      "File \u001b[1;32m~\\AppData\\Local\\Packages\\PythonSoftwareFoundation.Python.3.11_qbz5n2kfra8p0\\LocalCache\\local-packages\\Python311\\site-packages\\pandas\\core\\internals\\construction.py:939\u001b[0m, in \u001b[0;36m_finalize_columns_and_data\u001b[1;34m(content, columns, dtype)\u001b[0m\n\u001b[0;32m    938\u001b[0m \u001b[38;5;28;01mtry\u001b[39;00m:\n\u001b[1;32m--> 939\u001b[0m     columns \u001b[38;5;241m=\u001b[39m \u001b[43m_validate_or_indexify_columns\u001b[49m\u001b[43m(\u001b[49m\u001b[43mcontents\u001b[49m\u001b[43m,\u001b[49m\u001b[43m \u001b[49m\u001b[43mcolumns\u001b[49m\u001b[43m)\u001b[49m\n\u001b[0;32m    940\u001b[0m \u001b[38;5;28;01mexcept\u001b[39;00m \u001b[38;5;167;01mAssertionError\u001b[39;00m \u001b[38;5;28;01mas\u001b[39;00m err:\n\u001b[0;32m    941\u001b[0m     \u001b[38;5;66;03m# GH#26429 do not raise user-facing AssertionError\u001b[39;00m\n",
      "File \u001b[1;32m~\\AppData\\Local\\Packages\\PythonSoftwareFoundation.Python.3.11_qbz5n2kfra8p0\\LocalCache\\local-packages\\Python311\\site-packages\\pandas\\core\\internals\\construction.py:986\u001b[0m, in \u001b[0;36m_validate_or_indexify_columns\u001b[1;34m(content, columns)\u001b[0m\n\u001b[0;32m    984\u001b[0m \u001b[38;5;28;01mif\u001b[39;00m \u001b[38;5;129;01mnot\u001b[39;00m is_mi_list \u001b[38;5;129;01mand\u001b[39;00m \u001b[38;5;28mlen\u001b[39m(columns) \u001b[38;5;241m!=\u001b[39m \u001b[38;5;28mlen\u001b[39m(content):  \u001b[38;5;66;03m# pragma: no cover\u001b[39;00m\n\u001b[0;32m    985\u001b[0m     \u001b[38;5;66;03m# caller's responsibility to check for this...\u001b[39;00m\n\u001b[1;32m--> 986\u001b[0m     \u001b[38;5;28;01mraise\u001b[39;00m \u001b[38;5;167;01mAssertionError\u001b[39;00m(\n\u001b[0;32m    987\u001b[0m         \u001b[38;5;124mf\u001b[39m\u001b[38;5;124m\"\u001b[39m\u001b[38;5;132;01m{\u001b[39;00m\u001b[38;5;28mlen\u001b[39m(columns)\u001b[38;5;132;01m}\u001b[39;00m\u001b[38;5;124m columns passed, passed data had \u001b[39m\u001b[38;5;124m\"\u001b[39m\n\u001b[0;32m    988\u001b[0m         \u001b[38;5;124mf\u001b[39m\u001b[38;5;124m\"\u001b[39m\u001b[38;5;132;01m{\u001b[39;00m\u001b[38;5;28mlen\u001b[39m(content)\u001b[38;5;132;01m}\u001b[39;00m\u001b[38;5;124m columns\u001b[39m\u001b[38;5;124m\"\u001b[39m\n\u001b[0;32m    989\u001b[0m     )\n\u001b[0;32m    990\u001b[0m \u001b[38;5;28;01mif\u001b[39;00m is_mi_list:\n\u001b[0;32m    991\u001b[0m     \u001b[38;5;66;03m# check if nested list column, length of each sub-list should be equal\u001b[39;00m\n",
      "\u001b[1;31mAssertionError\u001b[0m: 22 columns passed, passed data had 21 columns",
      "\nThe above exception was the direct cause of the following exception:\n",
      "\u001b[1;31mValueError\u001b[0m                                Traceback (most recent call last)",
      "Cell \u001b[1;32mIn[24], line 9\u001b[0m\n\u001b[0;32m      6\u001b[0m \u001b[38;5;28mprint\u001b[39m(\u001b[38;5;124mf\u001b[39m\u001b[38;5;124m\"\u001b[39m\u001b[38;5;124mNumăr valori: \u001b[39m\u001b[38;5;132;01m{\u001b[39;00m\u001b[38;5;28mlen\u001b[39m(new_user_row)\u001b[38;5;132;01m}\u001b[39;00m\u001b[38;5;124m\"\u001b[39m)\n\u001b[0;32m      8\u001b[0m \u001b[38;5;66;03m# Adăugăm noul utilizator în DataFrame\u001b[39;00m\n\u001b[1;32m----> 9\u001b[0m new_user_df \u001b[38;5;241m=\u001b[39m \u001b[43mpd\u001b[49m\u001b[38;5;241;43m.\u001b[39;49m\u001b[43mDataFrame\u001b[49m\u001b[43m(\u001b[49m\u001b[43m[\u001b[49m\u001b[43mnew_user_row\u001b[49m\u001b[43m]\u001b[49m\u001b[43m,\u001b[49m\u001b[43m \u001b[49m\u001b[43mcolumns\u001b[49m\u001b[38;5;241;43m=\u001b[39;49m\u001b[43mcolumns\u001b[49m\u001b[43m)\u001b[49m\n\u001b[0;32m     10\u001b[0m data \u001b[38;5;241m=\u001b[39m pd\u001b[38;5;241m.\u001b[39mconcat([data, new_user_df], ignore_index\u001b[38;5;241m=\u001b[39m\u001b[38;5;28;01mTrue\u001b[39;00m)\n\u001b[0;32m     12\u001b[0m \u001b[38;5;66;03m# Afișăm noul DataFrame\u001b[39;00m\n",
      "File \u001b[1;32m~\\AppData\\Local\\Packages\\PythonSoftwareFoundation.Python.3.11_qbz5n2kfra8p0\\LocalCache\\local-packages\\Python311\\site-packages\\pandas\\core\\frame.py:851\u001b[0m, in \u001b[0;36mDataFrame.__init__\u001b[1;34m(self, data, index, columns, dtype, copy)\u001b[0m\n\u001b[0;32m    849\u001b[0m     \u001b[38;5;28;01mif\u001b[39;00m columns \u001b[38;5;129;01mis\u001b[39;00m \u001b[38;5;129;01mnot\u001b[39;00m \u001b[38;5;28;01mNone\u001b[39;00m:\n\u001b[0;32m    850\u001b[0m         columns \u001b[38;5;241m=\u001b[39m ensure_index(columns)\n\u001b[1;32m--> 851\u001b[0m     arrays, columns, index \u001b[38;5;241m=\u001b[39m \u001b[43mnested_data_to_arrays\u001b[49m\u001b[43m(\u001b[49m\n\u001b[0;32m    852\u001b[0m \u001b[43m        \u001b[49m\u001b[38;5;66;43;03m# error: Argument 3 to \"nested_data_to_arrays\" has incompatible\u001b[39;49;00m\n\u001b[0;32m    853\u001b[0m \u001b[43m        \u001b[49m\u001b[38;5;66;43;03m# type \"Optional[Collection[Any]]\"; expected \"Optional[Index]\"\u001b[39;49;00m\n\u001b[0;32m    854\u001b[0m \u001b[43m        \u001b[49m\u001b[43mdata\u001b[49m\u001b[43m,\u001b[49m\n\u001b[0;32m    855\u001b[0m \u001b[43m        \u001b[49m\u001b[43mcolumns\u001b[49m\u001b[43m,\u001b[49m\n\u001b[0;32m    856\u001b[0m \u001b[43m        \u001b[49m\u001b[43mindex\u001b[49m\u001b[43m,\u001b[49m\u001b[43m  \u001b[49m\u001b[38;5;66;43;03m# type: ignore[arg-type]\u001b[39;49;00m\n\u001b[0;32m    857\u001b[0m \u001b[43m        \u001b[49m\u001b[43mdtype\u001b[49m\u001b[43m,\u001b[49m\n\u001b[0;32m    858\u001b[0m \u001b[43m    \u001b[49m\u001b[43m)\u001b[49m\n\u001b[0;32m    859\u001b[0m     mgr \u001b[38;5;241m=\u001b[39m arrays_to_mgr(\n\u001b[0;32m    860\u001b[0m         arrays,\n\u001b[0;32m    861\u001b[0m         columns,\n\u001b[1;32m   (...)\u001b[0m\n\u001b[0;32m    864\u001b[0m         typ\u001b[38;5;241m=\u001b[39mmanager,\n\u001b[0;32m    865\u001b[0m     )\n\u001b[0;32m    866\u001b[0m \u001b[38;5;28;01melse\u001b[39;00m:\n",
      "File \u001b[1;32m~\\AppData\\Local\\Packages\\PythonSoftwareFoundation.Python.3.11_qbz5n2kfra8p0\\LocalCache\\local-packages\\Python311\\site-packages\\pandas\\core\\internals\\construction.py:520\u001b[0m, in \u001b[0;36mnested_data_to_arrays\u001b[1;34m(data, columns, index, dtype)\u001b[0m\n\u001b[0;32m    517\u001b[0m \u001b[38;5;28;01mif\u001b[39;00m is_named_tuple(data[\u001b[38;5;241m0\u001b[39m]) \u001b[38;5;129;01mand\u001b[39;00m columns \u001b[38;5;129;01mis\u001b[39;00m \u001b[38;5;28;01mNone\u001b[39;00m:\n\u001b[0;32m    518\u001b[0m     columns \u001b[38;5;241m=\u001b[39m ensure_index(data[\u001b[38;5;241m0\u001b[39m]\u001b[38;5;241m.\u001b[39m_fields)\n\u001b[1;32m--> 520\u001b[0m arrays, columns \u001b[38;5;241m=\u001b[39m \u001b[43mto_arrays\u001b[49m\u001b[43m(\u001b[49m\u001b[43mdata\u001b[49m\u001b[43m,\u001b[49m\u001b[43m \u001b[49m\u001b[43mcolumns\u001b[49m\u001b[43m,\u001b[49m\u001b[43m \u001b[49m\u001b[43mdtype\u001b[49m\u001b[38;5;241;43m=\u001b[39;49m\u001b[43mdtype\u001b[49m\u001b[43m)\u001b[49m\n\u001b[0;32m    521\u001b[0m columns \u001b[38;5;241m=\u001b[39m ensure_index(columns)\n\u001b[0;32m    523\u001b[0m \u001b[38;5;28;01mif\u001b[39;00m index \u001b[38;5;129;01mis\u001b[39;00m \u001b[38;5;28;01mNone\u001b[39;00m:\n",
      "File \u001b[1;32m~\\AppData\\Local\\Packages\\PythonSoftwareFoundation.Python.3.11_qbz5n2kfra8p0\\LocalCache\\local-packages\\Python311\\site-packages\\pandas\\core\\internals\\construction.py:845\u001b[0m, in \u001b[0;36mto_arrays\u001b[1;34m(data, columns, dtype)\u001b[0m\n\u001b[0;32m    842\u001b[0m     data \u001b[38;5;241m=\u001b[39m [\u001b[38;5;28mtuple\u001b[39m(x) \u001b[38;5;28;01mfor\u001b[39;00m x \u001b[38;5;129;01min\u001b[39;00m data]\n\u001b[0;32m    843\u001b[0m     arr \u001b[38;5;241m=\u001b[39m _list_to_arrays(data)\n\u001b[1;32m--> 845\u001b[0m content, columns \u001b[38;5;241m=\u001b[39m \u001b[43m_finalize_columns_and_data\u001b[49m\u001b[43m(\u001b[49m\u001b[43marr\u001b[49m\u001b[43m,\u001b[49m\u001b[43m \u001b[49m\u001b[43mcolumns\u001b[49m\u001b[43m,\u001b[49m\u001b[43m \u001b[49m\u001b[43mdtype\u001b[49m\u001b[43m)\u001b[49m\n\u001b[0;32m    846\u001b[0m \u001b[38;5;28;01mreturn\u001b[39;00m content, columns\n",
      "File \u001b[1;32m~\\AppData\\Local\\Packages\\PythonSoftwareFoundation.Python.3.11_qbz5n2kfra8p0\\LocalCache\\local-packages\\Python311\\site-packages\\pandas\\core\\internals\\construction.py:942\u001b[0m, in \u001b[0;36m_finalize_columns_and_data\u001b[1;34m(content, columns, dtype)\u001b[0m\n\u001b[0;32m    939\u001b[0m     columns \u001b[38;5;241m=\u001b[39m _validate_or_indexify_columns(contents, columns)\n\u001b[0;32m    940\u001b[0m \u001b[38;5;28;01mexcept\u001b[39;00m \u001b[38;5;167;01mAssertionError\u001b[39;00m \u001b[38;5;28;01mas\u001b[39;00m err:\n\u001b[0;32m    941\u001b[0m     \u001b[38;5;66;03m# GH#26429 do not raise user-facing AssertionError\u001b[39;00m\n\u001b[1;32m--> 942\u001b[0m     \u001b[38;5;28;01mraise\u001b[39;00m \u001b[38;5;167;01mValueError\u001b[39;00m(err) \u001b[38;5;28;01mfrom\u001b[39;00m \u001b[38;5;21;01merr\u001b[39;00m\n\u001b[0;32m    944\u001b[0m \u001b[38;5;28;01mif\u001b[39;00m \u001b[38;5;28mlen\u001b[39m(contents) \u001b[38;5;129;01mand\u001b[39;00m contents[\u001b[38;5;241m0\u001b[39m]\u001b[38;5;241m.\u001b[39mdtype \u001b[38;5;241m==\u001b[39m np\u001b[38;5;241m.\u001b[39mobject_:\n\u001b[0;32m    945\u001b[0m     contents \u001b[38;5;241m=\u001b[39m convert_object_array(contents, dtype\u001b[38;5;241m=\u001b[39mdtype)\n",
      "\u001b[1;31mValueError\u001b[0m: 22 columns passed, passed data had 21 columns"
     ]
    }
   ],
   "source": [
    "\n",
    "# Actualizăm lista de coloane pentru a include noile coloane de interese\n",
    "columns = data.columns.tolist() + [interest for interest in new_interests] \n",
    "\n",
    "# Verificăm că numărul de coloane corespunde numărului de valori\n",
    "print(f\"Număr coloane: {len(columns)}\")\n",
    "print(f\"Număr valori: {len(new_user_row)}\")\n",
    "\n",
    "# Adăugăm noul utilizator în DataFrame\n",
    "new_user_df = pd.DataFrame([new_user_row], columns=columns)\n",
    "data = pd.concat([data, new_user_df], ignore_index=True)\n",
    "\n",
    "# Afișăm noul DataFrame\n",
    "print(data)\n"
   ]
  },
  {
   "cell_type": "code",
   "execution_count": 19,
   "metadata": {},
   "outputs": [
    {
     "data": {
      "text/plain": [
       "{'painting'}"
      ]
     },
     "execution_count": 19,
     "metadata": {},
     "output_type": "execute_result"
    }
   ],
   "source": [
    "new_interests"
   ]
  },
  {
   "cell_type": "code",
   "execution_count": 9,
   "metadata": {},
   "outputs": [
    {
     "data": {
      "text/plain": [
       "['sports', 'music', 'painting']"
      ]
     },
     "execution_count": 9,
     "metadata": {},
     "output_type": "execute_result"
    }
   ],
   "source": [
    "user_interest_list"
   ]
  },
  {
   "cell_type": "code",
   "execution_count": 21,
   "metadata": {},
   "outputs": [
    {
     "ename": "NameError",
     "evalue": "name 'new_user_df' is not defined",
     "output_type": "error",
     "traceback": [
      "\u001b[1;31m---------------------------------------------------------------------------\u001b[0m",
      "\u001b[1;31mNameError\u001b[0m                                 Traceback (most recent call last)",
      "Cell \u001b[1;32mIn[21], line 1\u001b[0m\n\u001b[1;32m----> 1\u001b[0m \u001b[43mnew_user_df\u001b[49m\n",
      "\u001b[1;31mNameError\u001b[0m: name 'new_user_df' is not defined"
     ]
    }
   ],
   "source": [
    "new_user_df"
   ]
  },
  {
   "cell_type": "code",
   "execution_count": 25,
   "metadata": {},
   "outputs": [
    {
     "data": {
      "text/plain": [
       "['ID',\n",
       " 'Gender',\n",
       " 'Age',\n",
       " 'Height',\n",
       " 'Hair_Color',\n",
       " 'Preferred_Gender',\n",
       " 'Location',\n",
       " 'Photo_Path',\n",
       " 'Age_Min',\n",
       " 'Age_Max',\n",
       " 'hiking',\n",
       " 'movies',\n",
       " 'music',\n",
       " 'photography',\n",
       " 'reading',\n",
       " 'sports',\n",
       " 'travel',\n",
       " 'Vector_X',\n",
       " 'Vector_Y',\n",
       " 'Vector_Z',\n",
       " 'painting',\n",
       " 'painting']"
      ]
     },
     "execution_count": 25,
     "metadata": {},
     "output_type": "execute_result"
    }
   ],
   "source": [
    "columns"
   ]
  },
  {
   "cell_type": "code",
   "execution_count": 7,
   "metadata": {},
   "outputs": [
    {
     "data": {
      "text/plain": [
       "['ID',\n",
       " 'Gender',\n",
       " 'Age',\n",
       " 'Height',\n",
       " 'Hair_Color',\n",
       " 'Preferred_Gender',\n",
       " 'Location',\n",
       " 'Photo_Path',\n",
       " 'Age_Min',\n",
       " 'Age_Max',\n",
       " 'hiking',\n",
       " 'movies',\n",
       " 'music',\n",
       " 'photography',\n",
       " 'reading',\n",
       " 'sports',\n",
       " 'travel',\n",
       " 'Vector_X',\n",
       " 'Vector_Y',\n",
       " 'Vector_Z',\n",
       " 'painting']"
      ]
     },
     "execution_count": 7,
     "metadata": {},
     "output_type": "execute_result"
    }
   ],
   "source": [
    "data.columns.tolist()"
   ]
  },
  {
   "cell_type": "code",
   "execution_count": null,
   "metadata": {},
   "outputs": [],
   "source": []
  },
  {
   "cell_type": "code",
   "execution_count": null,
   "metadata": {},
   "outputs": [],
   "source": []
  },
  {
   "cell_type": "code",
   "execution_count": null,
   "metadata": {},
   "outputs": [],
   "source": []
  },
  {
   "cell_type": "code",
   "execution_count": 17,
   "metadata": {},
   "outputs": [
    {
     "data": {
      "text/html": [
       "<div>\n",
       "<style scoped>\n",
       "    .dataframe tbody tr th:only-of-type {\n",
       "        vertical-align: middle;\n",
       "    }\n",
       "\n",
       "    .dataframe tbody tr th {\n",
       "        vertical-align: top;\n",
       "    }\n",
       "\n",
       "    .dataframe thead th {\n",
       "        text-align: right;\n",
       "    }\n",
       "</style>\n",
       "<table border=\"1\" class=\"dataframe\">\n",
       "  <thead>\n",
       "    <tr style=\"text-align: right;\">\n",
       "      <th></th>\n",
       "      <th>ID</th>\n",
       "      <th>Gender</th>\n",
       "      <th>Age</th>\n",
       "      <th>Height</th>\n",
       "      <th>Hair_Color</th>\n",
       "      <th>Preferred_Gender</th>\n",
       "      <th>Location</th>\n",
       "      <th>Photo_Path</th>\n",
       "      <th>Age_Min</th>\n",
       "      <th>Age_Max</th>\n",
       "      <th>...</th>\n",
       "      <th>reading</th>\n",
       "      <th>sports</th>\n",
       "      <th>swimming</th>\n",
       "      <th>travel</th>\n",
       "      <th>video</th>\n",
       "      <th>yoga</th>\n",
       "      <th>Vector_X</th>\n",
       "      <th>Vector_Y</th>\n",
       "      <th>Vector_Z</th>\n",
       "      <th>painting</th>\n",
       "    </tr>\n",
       "  </thead>\n",
       "  <tbody>\n",
       "    <tr>\n",
       "      <th>70</th>\n",
       "      <td>71</td>\n",
       "      <td>1</td>\n",
       "      <td>29</td>\n",
       "      <td>185</td>\n",
       "      <td>Brown</td>\n",
       "      <td>0</td>\n",
       "      <td>Unknown</td>\n",
       "      <td>https://example.com/photo.jpg</td>\n",
       "      <td>25</td>\n",
       "      <td>35</td>\n",
       "      <td>...</td>\n",
       "      <td>0</td>\n",
       "      <td>1</td>\n",
       "      <td>0</td>\n",
       "      <td>0</td>\n",
       "      <td>0</td>\n",
       "      <td>0</td>\n",
       "      <td>1.000000</td>\n",
       "      <td>0.654321</td>\n",
       "      <td>0.234567</td>\n",
       "      <td>0.789012</td>\n",
       "    </tr>\n",
       "    <tr>\n",
       "      <th>69</th>\n",
       "      <td>70</td>\n",
       "      <td>1</td>\n",
       "      <td>30</td>\n",
       "      <td>180</td>\n",
       "      <td>Black</td>\n",
       "      <td>0</td>\n",
       "      <td>Bucharest</td>\n",
       "      <td>photos/user70.jpg</td>\n",
       "      <td>26</td>\n",
       "      <td>38</td>\n",
       "      <td>...</td>\n",
       "      <td>0</td>\n",
       "      <td>0</td>\n",
       "      <td>0</td>\n",
       "      <td>1</td>\n",
       "      <td>0</td>\n",
       "      <td>0</td>\n",
       "      <td>0.641205</td>\n",
       "      <td>0.314161</td>\n",
       "      <td>0.700114</td>\n",
       "      <td>0.000000</td>\n",
       "    </tr>\n",
       "    <tr>\n",
       "      <th>68</th>\n",
       "      <td>69</td>\n",
       "      <td>0</td>\n",
       "      <td>24</td>\n",
       "      <td>163</td>\n",
       "      <td>Red</td>\n",
       "      <td>1</td>\n",
       "      <td>Cluj</td>\n",
       "      <td>photos/user69.jpg</td>\n",
       "      <td>21</td>\n",
       "      <td>30</td>\n",
       "      <td>...</td>\n",
       "      <td>0</td>\n",
       "      <td>0</td>\n",
       "      <td>0</td>\n",
       "      <td>0</td>\n",
       "      <td>0</td>\n",
       "      <td>0</td>\n",
       "      <td>0.627698</td>\n",
       "      <td>0.274104</td>\n",
       "      <td>0.728603</td>\n",
       "      <td>0.000000</td>\n",
       "    </tr>\n",
       "    <tr>\n",
       "      <th>67</th>\n",
       "      <td>68</td>\n",
       "      <td>1</td>\n",
       "      <td>29</td>\n",
       "      <td>170</td>\n",
       "      <td>Brown</td>\n",
       "      <td>0</td>\n",
       "      <td>Timisoara</td>\n",
       "      <td>photos/user68.jpg</td>\n",
       "      <td>25</td>\n",
       "      <td>34</td>\n",
       "      <td>...</td>\n",
       "      <td>1</td>\n",
       "      <td>0</td>\n",
       "      <td>0</td>\n",
       "      <td>0</td>\n",
       "      <td>0</td>\n",
       "      <td>0</td>\n",
       "      <td>0.650408</td>\n",
       "      <td>0.252613</td>\n",
       "      <td>0.716349</td>\n",
       "      <td>0.000000</td>\n",
       "    </tr>\n",
       "    <tr>\n",
       "      <th>66</th>\n",
       "      <td>67</td>\n",
       "      <td>0</td>\n",
       "      <td>25</td>\n",
       "      <td>165</td>\n",
       "      <td>Blonde</td>\n",
       "      <td>1</td>\n",
       "      <td>Iasi</td>\n",
       "      <td>photos/user67.jpg</td>\n",
       "      <td>22</td>\n",
       "      <td>29</td>\n",
       "      <td>...</td>\n",
       "      <td>0</td>\n",
       "      <td>0</td>\n",
       "      <td>0</td>\n",
       "      <td>1</td>\n",
       "      <td>0</td>\n",
       "      <td>1</td>\n",
       "      <td>0.602649</td>\n",
       "      <td>0.314840</td>\n",
       "      <td>0.733274</td>\n",
       "      <td>0.000000</td>\n",
       "    </tr>\n",
       "    <tr>\n",
       "      <th>...</th>\n",
       "      <td>...</td>\n",
       "      <td>...</td>\n",
       "      <td>...</td>\n",
       "      <td>...</td>\n",
       "      <td>...</td>\n",
       "      <td>...</td>\n",
       "      <td>...</td>\n",
       "      <td>...</td>\n",
       "      <td>...</td>\n",
       "      <td>...</td>\n",
       "      <td>...</td>\n",
       "      <td>...</td>\n",
       "      <td>...</td>\n",
       "      <td>...</td>\n",
       "      <td>...</td>\n",
       "      <td>...</td>\n",
       "      <td>...</td>\n",
       "      <td>...</td>\n",
       "      <td>...</td>\n",
       "      <td>...</td>\n",
       "      <td>...</td>\n",
       "    </tr>\n",
       "    <tr>\n",
       "      <th>4</th>\n",
       "      <td>5</td>\n",
       "      <td>0</td>\n",
       "      <td>24</td>\n",
       "      <td>160</td>\n",
       "      <td>Brown</td>\n",
       "      <td>1</td>\n",
       "      <td>Constanta</td>\n",
       "      <td>https://i.postimg.cc/g0gdTwt2/img5.webp</td>\n",
       "      <td>20</td>\n",
       "      <td>30</td>\n",
       "      <td>...</td>\n",
       "      <td>0</td>\n",
       "      <td>0</td>\n",
       "      <td>0</td>\n",
       "      <td>0</td>\n",
       "      <td>0</td>\n",
       "      <td>1</td>\n",
       "      <td>0.629380</td>\n",
       "      <td>0.343873</td>\n",
       "      <td>0.696874</td>\n",
       "      <td>0.000000</td>\n",
       "    </tr>\n",
       "    <tr>\n",
       "      <th>3</th>\n",
       "      <td>4</td>\n",
       "      <td>1</td>\n",
       "      <td>28</td>\n",
       "      <td>175</td>\n",
       "      <td>Red</td>\n",
       "      <td>0</td>\n",
       "      <td>Brasov</td>\n",
       "      <td>https://i.postimg.cc/qB5q7FLv/img4.webp</td>\n",
       "      <td>22</td>\n",
       "      <td>32</td>\n",
       "      <td>...</td>\n",
       "      <td>0</td>\n",
       "      <td>0</td>\n",
       "      <td>0</td>\n",
       "      <td>0</td>\n",
       "      <td>0</td>\n",
       "      <td>0</td>\n",
       "      <td>0.630333</td>\n",
       "      <td>0.302148</td>\n",
       "      <td>0.715114</td>\n",
       "      <td>0.000000</td>\n",
       "    </tr>\n",
       "    <tr>\n",
       "      <th>2</th>\n",
       "      <td>3</td>\n",
       "      <td>0</td>\n",
       "      <td>30</td>\n",
       "      <td>170</td>\n",
       "      <td>Black</td>\n",
       "      <td>1</td>\n",
       "      <td>Timisoara</td>\n",
       "      <td>https://i.postimg.cc/0yrCwhgX/DALL-E-2025-01-1...</td>\n",
       "      <td>25</td>\n",
       "      <td>40</td>\n",
       "      <td>...</td>\n",
       "      <td>0</td>\n",
       "      <td>0</td>\n",
       "      <td>0</td>\n",
       "      <td>0</td>\n",
       "      <td>0</td>\n",
       "      <td>0</td>\n",
       "      <td>0.650408</td>\n",
       "      <td>0.252613</td>\n",
       "      <td>0.716349</td>\n",
       "      <td>0.000000</td>\n",
       "    </tr>\n",
       "    <tr>\n",
       "      <th>1</th>\n",
       "      <td>2</td>\n",
       "      <td>0</td>\n",
       "      <td>22</td>\n",
       "      <td>165</td>\n",
       "      <td>Blonde</td>\n",
       "      <td>1</td>\n",
       "      <td>Cluj</td>\n",
       "      <td>https://i.postimg.cc/tgYMHvM9/img2.webp</td>\n",
       "      <td>20</td>\n",
       "      <td>35</td>\n",
       "      <td>...</td>\n",
       "      <td>1</td>\n",
       "      <td>0</td>\n",
       "      <td>0</td>\n",
       "      <td>1</td>\n",
       "      <td>0</td>\n",
       "      <td>0</td>\n",
       "      <td>0.627698</td>\n",
       "      <td>0.274104</td>\n",
       "      <td>0.728603</td>\n",
       "      <td>0.000000</td>\n",
       "    </tr>\n",
       "    <tr>\n",
       "      <th>0</th>\n",
       "      <td>1</td>\n",
       "      <td>1</td>\n",
       "      <td>25</td>\n",
       "      <td>180</td>\n",
       "      <td>Brown</td>\n",
       "      <td>0</td>\n",
       "      <td>Bucharest</td>\n",
       "      <td>....</td>\n",
       "      <td>20</td>\n",
       "      <td>30</td>\n",
       "      <td>...</td>\n",
       "      <td>0</td>\n",
       "      <td>1</td>\n",
       "      <td>0</td>\n",
       "      <td>0</td>\n",
       "      <td>0</td>\n",
       "      <td>0</td>\n",
       "      <td>0.641205</td>\n",
       "      <td>0.314161</td>\n",
       "      <td>0.700114</td>\n",
       "      <td>0.000000</td>\n",
       "    </tr>\n",
       "  </tbody>\n",
       "</table>\n",
       "<p>71 rows × 29 columns</p>\n",
       "</div>"
      ],
      "text/plain": [
       "    ID  Gender  Age  Height Hair_Color  Preferred_Gender   Location  \\\n",
       "70  71       1   29     185      Brown                 0    Unknown   \n",
       "69  70       1   30     180      Black                 0  Bucharest   \n",
       "68  69       0   24     163        Red                 1       Cluj   \n",
       "67  68       1   29     170      Brown                 0  Timisoara   \n",
       "66  67       0   25     165     Blonde                 1       Iasi   \n",
       "..  ..     ...  ...     ...        ...               ...        ...   \n",
       "4    5       0   24     160      Brown                 1  Constanta   \n",
       "3    4       1   28     175        Red                 0     Brasov   \n",
       "2    3       0   30     170      Black                 1  Timisoara   \n",
       "1    2       0   22     165     Blonde                 1       Cluj   \n",
       "0    1       1   25     180      Brown                 0  Bucharest   \n",
       "\n",
       "                                           Photo_Path  Age_Min  Age_Max  ...  \\\n",
       "70                      https://example.com/photo.jpg       25       35  ...   \n",
       "69                                  photos/user70.jpg       26       38  ...   \n",
       "68                                  photos/user69.jpg       21       30  ...   \n",
       "67                                  photos/user68.jpg       25       34  ...   \n",
       "66                                  photos/user67.jpg       22       29  ...   \n",
       "..                                                ...      ...      ...  ...   \n",
       "4             https://i.postimg.cc/g0gdTwt2/img5.webp       20       30  ...   \n",
       "3             https://i.postimg.cc/qB5q7FLv/img4.webp       22       32  ...   \n",
       "2   https://i.postimg.cc/0yrCwhgX/DALL-E-2025-01-1...       25       40  ...   \n",
       "1             https://i.postimg.cc/tgYMHvM9/img2.webp       20       35  ...   \n",
       "0                                                ....       20       30  ...   \n",
       "\n",
       "    reading  sports  swimming  travel  video  yoga  Vector_X  Vector_Y  \\\n",
       "70        0       1         0       0      0     0  1.000000  0.654321   \n",
       "69        0       0         0       1      0     0  0.641205  0.314161   \n",
       "68        0       0         0       0      0     0  0.627698  0.274104   \n",
       "67        1       0         0       0      0     0  0.650408  0.252613   \n",
       "66        0       0         0       1      0     1  0.602649  0.314840   \n",
       "..      ...     ...       ...     ...    ...   ...       ...       ...   \n",
       "4         0       0         0       0      0     1  0.629380  0.343873   \n",
       "3         0       0         0       0      0     0  0.630333  0.302148   \n",
       "2         0       0         0       0      0     0  0.650408  0.252613   \n",
       "1         1       0         0       1      0     0  0.627698  0.274104   \n",
       "0         0       1         0       0      0     0  0.641205  0.314161   \n",
       "\n",
       "    Vector_Z  painting  \n",
       "70  0.234567  0.789012  \n",
       "69  0.700114  0.000000  \n",
       "68  0.728603  0.000000  \n",
       "67  0.716349  0.000000  \n",
       "66  0.733274  0.000000  \n",
       "..       ...       ...  \n",
       "4   0.696874  0.000000  \n",
       "3   0.715114  0.000000  \n",
       "2   0.716349  0.000000  \n",
       "1   0.728603  0.000000  \n",
       "0   0.700114  0.000000  \n",
       "\n",
       "[71 rows x 29 columns]"
      ]
     },
     "execution_count": 17,
     "metadata": {},
     "output_type": "execute_result"
    }
   ],
   "source": [
    "data[::-1]"
   ]
  },
  {
   "cell_type": "code",
   "execution_count": 2,
   "metadata": {},
   "outputs": [
    {
     "data": {
      "text/plain": [
       "0     {'ID': 1, 'Email': 'john.doe25@gmail.com', 'Nu...\n",
       "1     {'ID': 2, 'Email': 'emma.jones22@gmail.com', '...\n",
       "2     {'ID': 3, 'Email': 'sophia.wilson30@gmail.com'...\n",
       "3     {'ID': 4, 'Email': 'james.smith28@gmail.com', ...\n",
       "4     {'ID': 5, 'Email': 'mia.brown24@gmail.com', 'N...\n",
       "                            ...                        \n",
       "65    {'ID': 66, 'Email': 'sophia.jones28@gmail.com'...\n",
       "66    {'ID': 67, 'Email': 'amelia.taylor29@gmail.com...\n",
       "67    {'ID': 68, 'Email': 'oliver.wilson30@gmail.com...\n",
       "68    {'ID': 69, 'Email': 'lucas.clark31@gmail.com',...\n",
       "69    {'ID': 70, 'Email': 'mia.bennett22@gmail.com',...\n",
       "Name: users, Length: 70, dtype: object"
      ]
     },
     "execution_count": 2,
     "metadata": {},
     "output_type": "execute_result"
    }
   ],
   "source": [
    "users"
   ]
  },
  {
   "cell_type": "code",
   "execution_count": 5,
   "metadata": {},
   "outputs": [
    {
     "name": "stdout",
     "output_type": "stream",
     "text": [
      "[{'ID': 1, 'Name': 'John', 'Prenume': 'Doe', 'Email': 'john.doe25@gmail.com', 'Location': 'Unknown'}]\n"
     ]
    }
   ],
   "source": [
    "import pandas as pd\n",
    "\n",
    "# Încarcă fișierul JSON cu utilizatori\n",
    "data = pd.read_json('login_users.json')\n",
    "users = data['users']\n",
    "\n",
    "def recommend_users_by_id(user_id, data, similarity_matrix, interactions_matrix):\n",
    "    recommended_users = []\n",
    "\n",
    "    # Căutăm utilizatorul în funcție de ID\n",
    "    for user_data in users:\n",
    "        if user_data['ID'] == user_id:\n",
    "            # Calculăm recomandările pentru utilizatorul respectiv (aici se poate aplica logica ta de similaritate)\n",
    "            # De exemplu, adăugăm utilizatori recomandati\n",
    "            recommended_users.append({\n",
    "                'ID': user_data['ID'],\n",
    "                'Name': user_data['Nume'],  # Folosește 'Nume' în loc de 'Name'\n",
    "                'Prenume': user_data['Prenume'],  # Dacă vrei și prenumele\n",
    "                'Email': user_data['Email'],\n",
    "                'Location': user_data.get('Location', 'Unknown'),  # Asigură-te că ai câmpul 'Location' dacă este relevant\n",
    "            })\n",
    "    \n",
    "    # Poți returna lista de utilizatori recomandati\n",
    "    return recommended_users\n",
    "\n",
    "# Exemplu de utilizare a funcției\n",
    "user_id = 1  # ID-ul utilizatorului pentru care vrei recomandările\n",
    "similarity_matrix = []  # Poți adăuga logica ta pentru similaritate\n",
    "interactions_matrix = []  # Poți adăuga logica ta pentru interacțiuni\n",
    "\n",
    "recommended_users = recommend_users_by_id(user_id, data, similarity_matrix, interactions_matrix)\n",
    "\n",
    "# Afișează utilizatorii recomandați\n",
    "print(recommended_users)\n"
   ]
  },
  {
   "cell_type": "code",
   "execution_count": null,
   "metadata": {},
   "outputs": [],
   "source": [
    "data[1]"
   ]
  },
  {
   "cell_type": "code",
   "execution_count": null,
   "metadata": {},
   "outputs": [],
   "source": [
    "<!DOCTYPE html>\n",
    "<html lang=\"en\">\n",
    "<head>\n",
    "    <meta charset=\"UTF-8\">\n",
    "    <meta name=\"viewport\" content=\"width=device-width, initial-scale=1.0\">\n",
    "    <title>Chiupi-pupi Dating Site - Dating</title>\n",
    "    <link href=\"https://fonts.googleapis.com/css2?family=Dancing+Script:wght@400;700&display=swap\" rel=\"stylesheet\">\n",
    "    <link rel=\"stylesheet\" href=\"{{ url_for('static', filename='css/style.css') }}\">\n",
    "    <link rel=\"stylesheet\" href=\"https://cdnjs.cloudflare.com/ajax/libs/font-awesome/6.0.0-beta3/css/all.min.css\">\n",
    "    <style>\n",
    "        /* Banner */\n",
    "        .small-banner {\n",
    "            height: 15%;\n",
    "            padding: 10px 20px;\n",
    "            background-color: #ff7f7f;\n",
    "            display: flex;\n",
    "            align-items: center;\n",
    "            justify-content: space-between;\n",
    "        }\n",
    "\n",
    "        .small-banner__content {\n",
    "            display: flex;\n",
    "            align-items: center;\n",
    "            justify-content: space-between;\n",
    "            width: 100%;\n",
    "        }\n",
    "\n",
    "        .small-logo {\n",
    "            max-height: 70px;\n",
    "            width: auto;\n",
    "            animation: bounce 1.5s infinite; /* Animarea logo-ului */\n",
    "        }\n",
    "\n",
    "        .site-name {\n",
    "            font-family: 'Dancing Script', cursive;\n",
    "            font-size: 2rem; /* Dimensiune egală cu logo-ul */\n",
    "            font-weight: bold;\n",
    "            color: white;\n",
    "            margin-left: 10px;\n",
    "        }\n",
    "\n",
    "        /* Linkuri de navigare */\n",
    "        .nav-link {\n",
    "            font-size: 18px;\n",
    "            color: white;\n",
    "            text-decoration: none;\n",
    "            font-weight: bold;\n",
    "            transition: color 0.3s ease;\n",
    "        }\n",
    "\n",
    "        .nav-link.active {\n",
    "            color: black;\n",
    "        }\n",
    "\n",
    "        .nav-link:hover {\n",
    "            color: #ffe5e5;\n",
    "        }\n",
    "\n",
    "        /* Divider */\n",
    "        .divider {\n",
    "            width: 100%;\n",
    "            height: 2px;\n",
    "            background-color: #ccc;\n",
    "            margin: 0;\n",
    "        }\n",
    "\n",
    "        /* Pagina de dating */\n",
    "        .dating-page {\n",
    "            display: flex;\n",
    "            flex-direction: column;\n",
    "            align-items: center;\n",
    "            margin-top: 50px; /* Caseta mai jos */\n",
    "            gap: 20px;\n",
    "        }\n",
    "\n",
    "        .photo-container {\n",
    "            width: 400px; /* Lățime mai mare */\n",
    "            height: 550px; /* Înălțime mai mare */\n",
    "            border: 2px solid #ddd;\n",
    "            border-radius: 10px;\n",
    "            overflow: hidden;\n",
    "            box-shadow: 0px 4px 10px rgba(0, 0, 0, 0.1);\n",
    "        }\n",
    "\n",
    "        .profile-photo {\n",
    "            width: 100%;\n",
    "            height: 100%;\n",
    "            object-fit: cover;\n",
    "        }\n",
    "\n",
    "        /* Butoane */\n",
    "        .action-buttons {\n",
    "            display: flex;\n",
    "            gap: 20px;\n",
    "        }\n",
    "\n",
    "        .dislike-button,\n",
    "        .like-button {\n",
    "            width: 190px; /* Dimensiuni potrivite pentru butoane */\n",
    "            height: 60px;\n",
    "            font-size: 20px;\n",
    "            font-weight: bold;\n",
    "            color: white;\n",
    "            border: none;\n",
    "            border-radius: 5px;\n",
    "            cursor: pointer;\n",
    "            transition: transform 0.2s;\n",
    "        }\n",
    "\n",
    "        .dislike-button {\n",
    "            background-color: #dc3545;\n",
    "        }\n",
    "\n",
    "        .like-button {\n",
    "            background-color: #007bff;\n",
    "        }\n",
    "\n",
    "        .dislike-button:hover,\n",
    "        .like-button:hover {\n",
    "            transform: scale(1.1);\n",
    "        }\n",
    "\n",
    "        /* Animația logo-ului */\n",
    "        @keyframes bounce {\n",
    "            0%, 100% {\n",
    "                transform: translateY(0);\n",
    "            }\n",
    "            50% {\n",
    "                transform: translateY(-10px);\n",
    "            }\n",
    "        }\n",
    "    </style>\n",
    "</head>\n",
    "<body>\n",
    "    <!-- Banner -->\n",
    "            color: white;\n",
    "            border: none;\n",
    "            border-radius: 5px;\n",
    "            cursor: pointer;\n",
    "            transition: transform 0.2s;\n",
    "        }\n",
    "\n",
    "        .dislike-button {\n",
    "            background-color: #dc3545;\n",
    "        }\n",
    "\n",
    "        .like-button {\n",
    "            background-color: #007bff;\n",
    "        }\n",
    "\n",
    "        .dislike-button:hover,\n",
    "        .like-button:hover {\n",
    "            transform: scale(1.1);\n",
    "        }\n",
    "\n",
    "        /* Animația logo-ului */\n",
    "        @keyframes bounce {\n",
    "            0%, 100% {\n",
    "                transform: translateY(0);\n",
    "            }\n",
    "            50% {\n",
    "                transform: translateY(-10px);\n",
    "            }\n",
    "        }\n",
    "    </style>\n",
    "</head>\n",
    "<body>\n",
    "    <!-- Banner -->\n",
    "    <div class=\"banner small-banner\">\n",
    "        <div class=\"small-banner__content\">\n",
    "            <div style=\"display: flex; align-items: center;\">\n",
    "                <a href=\"/\"><img src=\"{{ url_for('static', filename='images/logo.png') }}\" class=\"small-logo\" alt=\"Logo Chiupi-pupi\"></a>\n",
    "                <a href=\"/\" class=\"site-name\">Chiupi-pupi</a>\n",
    "            </div>\n",
    "            <nav class=\"navigation-links\">\n",
    "                <a href=\"#\" class=\"nav-link active\">Dating</a>\n",
    "                <a href=\"#\" class=\"nav-link\">Prieteni</a>\n",
    "                <a href=\"#\" class=\"nav-link\">Profil</a>\n",
    "            </nav>\n",
    "        </div>\n",
    "    </div>\n",
    "\n",
    "    <div class=\"divider\"></div>\n",
    "\n",
    "    <!-- Pagina de dating -->\n",
    "    <div class=\"dating-page\">\n",
    "        <div class=\"photo-container\">\n",
    "            <img src=\"{{ url_for('static', filename='images/photo1.jpg') }}\" alt=\"Profil sugerat\" class=\"profile-photo\" id=\"profile-photo\">\n",
    "        </div>\n",
    "        <div class=\"action-buttons\">\n",
    "            <button class=\"dislike-button\" id=\"dislike-button\">Dislike</button>\n",
    "            <button class=\"like-button\" id=\"like-button\">Like</button>\n",
    "        </div>\n",
    "    </div>\n",
    "\n",
    "    \n",
    "</body>\n",
    "</html>\n"
   ]
  },
  {
   "cell_type": "code",
   "execution_count": null,
   "metadata": {},
   "outputs": [],
   "source": [
    "user_ids = data['ID'].tolist()\n",
    "interactii = pd.DataFrame(0, index=user_ids, columns=user_ids)\n",
    "interactii.to_csv(\"APA/interact.csv\")"
   ]
  },
  {
   "cell_type": "code",
   "execution_count": 1,
   "metadata": {},
   "outputs": [],
   "source": [
    "import pandas as pd"
   ]
  },
  {
   "cell_type": "code",
   "execution_count": 2,
   "metadata": {},
   "outputs": [],
   "source": [
    "data=pd.read_csv('APA_PR/dating_data.csv')\n"
   ]
  },
  {
   "cell_type": "code",
   "execution_count": 3,
   "metadata": {},
   "outputs": [],
   "source": [
    "user_ids = data['ID'].tolist()\n",
    "interactii = pd.DataFrame(0, index=user_ids, columns=user_ids)\n",
    "interactii.to_csv(\"APA_PR/interact.csv\")"
   ]
  }
 ],
 "metadata": {
  "kernelspec": {
   "display_name": "Python 3",
   "language": "python",
   "name": "python3"
  },
  "language_info": {
   "codemirror_mode": {
    "name": "ipython",
    "version": 3
   },
   "file_extension": ".py",
   "mimetype": "text/x-python",
   "name": "python",
   "nbconvert_exporter": "python",
   "pygments_lexer": "ipython3",
   "version": "3.11.9"
  }
 },
 "nbformat": 4,
 "nbformat_minor": 2
}
